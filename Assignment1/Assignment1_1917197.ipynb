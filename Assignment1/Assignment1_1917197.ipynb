{
  "nbformat": 4,
  "nbformat_minor": 0,
  "metadata": {
    "colab": {
      "provenance": [],
      "collapsed_sections": []
    },
    "kernelspec": {
      "name": "python3",
      "display_name": "Python 3"
    },
    "language_info": {
      "name": "python"
    }
  },
  "cells": [
    {
      "cell_type": "code",
      "source": [
        "from google.colab import drive\n",
        "drive.mount('/content/drive')\n",
        "path='/content/drive/MyDrive/Colab Notebooks/Assignment 1'"
      ],
      "metadata": {
        "colab": {
          "base_uri": "https://localhost:8080/"
        },
        "id": "9UqhMEkRR2Z2",
        "outputId": "911393f5-4359-4a82-8cd8-6964c0ee9c61"
      },
      "execution_count": null,
      "outputs": [
        {
          "output_type": "stream",
          "name": "stdout",
          "text": [
            "Drive already mounted at /content/drive; to attempt to forcibly remount, call drive.mount(\"/content/drive\", force_remount=True).\n"
          ]
        }
      ]
    },
    {
      "cell_type": "code",
      "source": [
        "# import dependencies\n",
        "from IPython.display import display, Javascript, Image\n",
        "from google.colab.output import eval_js\n",
        "from base64 import b64decode, b64encode\n",
        "from matplotlib import pyplot as plt\n",
        "import cv2\n",
        "import numpy as np\n",
        "import PIL\n",
        "import io\n",
        "import html\n",
        "import time"
      ],
      "metadata": {
        "id": "LUvKVT5pZOkU"
      },
      "execution_count": null,
      "outputs": []
    },
    {
      "cell_type": "code",
      "execution_count": null,
      "metadata": {
        "id": "833oOlPBkPBF"
      },
      "outputs": [],
      "source": [
        "# function to convert the JavaScript object into an OpenCV image\n",
        "def js_to_image(js_reply):\n",
        "  \"\"\"\n",
        "  Params:\n",
        "          js_reply: JavaScript object containing image from webcam\n",
        "  Returns:\n",
        "          img: OpenCV BGR image\n",
        "  \"\"\"\n",
        "  # decode base64 image\n",
        "  image_bytes = b64decode(js_reply.split(',')[1])\n",
        "  # convert bytes to numpy array\n",
        "  jpg_as_np = np.frombuffer(image_bytes, dtype=np.uint8)\n",
        "  # decode numpy array into OpenCV BGR image\n",
        "  img = cv2.imdecode(jpg_as_np, flags=1)\n",
        "\n",
        "  return img\n",
        "\n",
        "# function to convert OpenCV Rectangle bounding box image into base64 byte string to be overlayed on video stream\n",
        "def bbox_to_bytes(bbox_array):\n",
        "  \"\"\"\n",
        "  Params:\n",
        "          bbox_array: Numpy array (pixels) containing rectangle to overlay on video stream.\n",
        "  Returns:\n",
        "        bytes: Base64 image byte string\n",
        "  \"\"\"\n",
        "  # convert array into PIL image\n",
        "  bbox_PIL = PIL.Image.fromarray(bbox_array, 'RGBA')\n",
        "  iobuf = io.BytesIO()\n",
        "  # format bbox into png for return\n",
        "  bbox_PIL.save(iobuf, format='png')\n",
        "  # format return string\n",
        "  bbox_bytes = 'data:image/png;base64,{}'.format((str(b64encode(iobuf.getvalue()), 'utf-8')))\n",
        "\n",
        "  return bbox_bytes"
      ]
    },
    {
      "cell_type": "code",
      "source": [
        "# initialize the Haar Cascade face detection model\n",
        "face_cascade = cv2.CascadeClassifier(cv2.samples.findFile(cv2.data.haarcascades + 'haarcascade_frontalface_default.xml'))"
      ],
      "metadata": {
        "id": "03ReZP-eZXma"
      },
      "execution_count": null,
      "outputs": []
    },
    {
      "cell_type": "code",
      "source": [
        "# modify to change function of the program\n",
        "# q1 : Apply both Canny Edge Detection and Sobel Edge Detection\n",
        "# q2 : Perform blurring of only faces\n",
        "# q3 : Calculating the number of coins in an image using contours\n",
        "# default : bounding box for face\n",
        "\n",
        "mode=\"q3\" "
      ],
      "metadata": {
        "id": "XSDLZg_qbP4A"
      },
      "execution_count": null,
      "outputs": []
    },
    {
      "cell_type": "code",
      "source": [
        "def take_photo(filename='photo.jpg', quality=0.8):\n",
        "  js = Javascript('''\n",
        "    async function takePhoto(quality) {\n",
        "      const div = document.createElement('div');\n",
        "      const capture = document.createElement('button');\n",
        "      capture.textContent = 'Capture';\n",
        "      div.appendChild(capture);\n",
        "\n",
        "      const video = document.createElement('video');\n",
        "      video.style.display = 'block';\n",
        "      const stream = await navigator.mediaDevices.getUserMedia({video: true});\n",
        "\n",
        "      document.body.appendChild(div);\n",
        "      div.appendChild(video);\n",
        "      video.srcObject = stream;\n",
        "      await video.play();\n",
        "\n",
        "      // Resize the output to fit the video element.\n",
        "      google.colab.output.setIframeHeight(document.documentElement.scrollHeight, true);\n",
        "\n",
        "      // Wait for Capture to be clicked.\n",
        "      await new Promise((resolve) => capture.onclick = resolve);\n",
        "\n",
        "      const canvas = document.createElement('canvas');\n",
        "      canvas.width = video.videoWidth;\n",
        "      canvas.height = video.videoHeight;\n",
        "      canvas.getContext('2d').drawImage(video, 0, 0);\n",
        "      stream.getVideoTracks()[0].stop();\n",
        "      div.remove();\n",
        "      return canvas.toDataURL('image/jpeg', quality);\n",
        "    }\n",
        "    ''')\n",
        "  display(js)\n",
        "\n",
        "  # get photo data\n",
        "  data = eval_js('takePhoto({})'.format(quality))\n",
        "\n",
        "  # get OpenCV format image\n",
        "  img = js_to_image(data) \n",
        "\n",
        "  # grayscale img\n",
        "  gray = cv2.cvtColor(img, cv2.COLOR_RGB2GRAY)\n",
        " \n",
        "  # get face bounding box coordinates using Haar Cascade\n",
        "  faces = face_cascade.detectMultiScale(gray)\n",
        "  \n",
        "  # draw face bounding box on image\n",
        "  for (x,y,w,h) in faces:\n",
        "\n",
        "  # initialize only_face to face area that is detected by Haar Cascade\n",
        "    only_face = img[y:y+h,x:x+w] \n",
        "\n",
        "    if mode==\"q1\":\n",
        "      # passes only_face to Canny edge detection with a (low,high) threshold of (120,150)\n",
        "      img_canny = cv2.Canny(only_face,120,150)\n",
        "      # passes img_canny to Sobel edge detection with a kernel size of 1\n",
        "      sobelx = cv2.Sobel(img_canny, cv2.CV_8U,1,0,ksize=-1)\n",
        "      sobely = cv2.Sobel(img_canny, cv2.CV_8U,0,1,ksize=-1)\n",
        "      # merge both sobel edge detection for x and y into img_sob\n",
        "      img_sob = sobelx + sobely\n",
        "      # convert the img sobel edge detection to RGB to make it the same dimension as img\n",
        "      img_sobel = cv2.cvtColor(img_sob, cv2.COLOR_GRAY2RGB)\n",
        "      # merge img_sobel on top of img obtained from captured camera  \n",
        "      img[y:y+img_sobel.shape[0], x:x+img_sobel.shape[1]] = img_sobel\n",
        "    \n",
        "    elif mode==\"q2\":\n",
        "      # passes only_face to Gaussian blur with a kernel size of 15x15 and sigmaX of 30\n",
        "      img_blur = cv2.GaussianBlur(only_face,(15,15),30)\n",
        "      # merge img_blur on top of img obtained from captured camera  \n",
        "      img[y:y+img_blur.shape[0], x:x+img_blur.shape[1]] = img_blur\n",
        "    \n",
        "    elif mode==\"q3\":\n",
        "      # post processing is done to enable easier detection of contours\n",
        "      # passes gray to Gaussian blur with a kernel size of 11x11\n",
        "      img_blur = cv2.GaussianBlur(gray,(11,11), 0)\n",
        "      # passes img_blur for canny edge detection with a (low,high) threshold of (30,60)\n",
        "      img_canny = cv2.Canny(img_blur,30, 60)\n",
        "      # dilate img_canny to make the edges produced by the canny edge detection to be thicker\n",
        "      dilate = cv2.dilate(img_canny , (1, 1), iterations=2)\n",
        "      # find contours with the image of dilate\n",
        "      (cnt, heirarchy) = cv2.findContours(dilate.copy(), cv2.RETR_EXTERNAL, cv2.CHAIN_APPROX_NONE)\n",
        "      \n",
        "      # draw the contours to img\n",
        "      img=cv2.drawContours(img, cnt, -1, (0,255,0), 2)\n",
        "      # prints the amount of countours found\n",
        "      print('Coins in the image: ', len(cnt))\n",
        "\n",
        "    else :\n",
        "      # if mode is anything else than q1,q2 or q3, run bounding box command\n",
        "      img = cv2.rectangle(img,(x,y),(x+w,y+h),(255,0,0),2)\n",
        "\n",
        "    # save image\n",
        "    cv2.imwrite(filename, img)\n",
        "\n",
        "    return filename"
      ],
      "metadata": {
        "id": "F0rRvr3DksML"
      },
      "execution_count": null,
      "outputs": []
    },
    {
      "cell_type": "code",
      "source": [
        "try:\n",
        "  filename = take_photo('photo.jpg')\n",
        "  print('Saved to {}'.format(filename))\n",
        "  \n",
        "  # Show the image which was just taken.\n",
        "  display(Image(filename))\n",
        "except Exception as err:\n",
        "  # Errors will be thrown if the user does not have a webcam or if they do not\n",
        "  # grant the page permission to access it.\n",
        "  print(str(err))\n",
        "  \n",
        "  #1917197"
      ],
      "metadata": {
        "colab": {
          "base_uri": "https://localhost:8080/",
          "height": 413
        },
        "id": "IhJjquorHlpY",
        "outputId": "176c3698-0916-409a-ed30-89b7f347f077"
      },
      "execution_count": null,
      "outputs": [
        {
          "output_type": "display_data",
          "data": {
            "text/plain": [
              "<IPython.core.display.Javascript object>"
            ],
            "application/javascript": [
              "\n",
              "    async function takePhoto(quality) {\n",
              "      const div = document.createElement('div');\n",
              "      const capture = document.createElement('button');\n",
              "      capture.textContent = 'Capture';\n",
              "      div.appendChild(capture);\n",
              "\n",
              "      const video = document.createElement('video');\n",
              "      video.style.display = 'block';\n",
              "      const stream = await navigator.mediaDevices.getUserMedia({video: true});\n",
              "\n",
              "      document.body.appendChild(div);\n",
              "      div.appendChild(video);\n",
              "      video.srcObject = stream;\n",
              "      await video.play();\n",
              "\n",
              "      // Resize the output to fit the video element.\n",
              "      google.colab.output.setIframeHeight(document.documentElement.scrollHeight, true);\n",
              "\n",
              "      // Wait for Capture to be clicked.\n",
              "      await new Promise((resolve) => capture.onclick = resolve);\n",
              "\n",
              "      const canvas = document.createElement('canvas');\n",
              "      canvas.width = video.videoWidth;\n",
              "      canvas.height = video.videoHeight;\n",
              "      canvas.getContext('2d').drawImage(video, 0, 0);\n",
              "      stream.getVideoTracks()[0].stop();\n",
              "      div.remove();\n",
              "      return canvas.toDataURL('image/jpeg', quality);\n",
              "    }\n",
              "    "
            ]
          },
          "metadata": {}
        },
        {
          "output_type": "stream",
          "name": "stdout",
          "text": [
            "Coins in the image:  5\n",
            "Saved to photo.jpg\n"
          ]
        },
        {
          "output_type": "display_data",
          "data": {
            "image/jpeg": "[encoded data removed]",
            "text/plain": [
              "<IPython.core.display.Image object>"
            ]
          },
          "metadata": {}
        }
      ]
    },
    {
      "cell_type": "code",
      "source": [],
      "metadata": {
        "id": "Ujn960gQzaDV"
      },
      "execution_count": null,
      "outputs": []
    }
  ]
}